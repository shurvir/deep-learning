{
 "cells": [
  {
   "cell_type": "markdown",
   "metadata": {},
   "source": [
    "# TV Script Generation\n",
    "In this project, you'll generate your own [Simpsons](https://en.wikipedia.org/wiki/The_Simpsons) TV scripts using RNNs.  You'll be using part of the [Simpsons dataset](https://www.kaggle.com/wcukierski/the-simpsons-by-the-data) of scripts from 27 seasons.  The Neural Network you'll build will generate a new TV script for a scene at [Moe's Tavern](https://simpsonswiki.com/wiki/Moe's_Tavern).\n",
    "## Get the Data\n",
    "The data is already provided for you.  You'll be using a subset of the original dataset.  It consists of only the scenes in Moe's Tavern.  This doesn't include other versions of the tavern, like \"Moe's Cavern\", \"Flaming Moe's\", \"Uncle Moe's Family Feed-Bag\", etc.."
   ]
  },
  {
   "cell_type": "markdown",
   "metadata": {},
   "source": [
    "## Get the Data\n",
    "Load a pre-trained model"
   ]
  },
  {
   "cell_type": "code",
   "execution_count": 1,
   "metadata": {
    "collapsed": true
   },
   "outputs": [],
   "source": [
    "\"\"\"\n",
    "DON'T MODIFY ANYTHING IN THIS CELL\n",
    "\"\"\"\n",
    "import tensorflow as tf\n",
    "import numpy as np\n",
    "import helper\n",
    "import problem_unittests as tests\n",
    "\n",
    "_, vocab_to_int, int_to_vocab, token_dict = helper.load_preprocess()\n",
    "seq_length, load_dir = helper.load_params()"
   ]
  },
  {
   "cell_type": "markdown",
   "metadata": {},
   "source": [
    "## Implement Generate Functions\n",
    "### Get Tensors\n",
    "Get tensors from `loaded_graph` using the function [`get_tensor_by_name()`](https://www.tensorflow.org/api_docs/python/tf/Graph#get_tensor_by_name).  Get the tensors using the following names:\n",
    "- \"input:0\"\n",
    "- \"initial_state:0\"\n",
    "- \"final_state:0\"\n",
    "- \"probs:0\"\n",
    "\n",
    "Return the tensors in the following tuple `(InputTensor, InitialStateTensor, FinalStateTensor, ProbsTensor)` "
   ]
  },
  {
   "cell_type": "code",
   "execution_count": 5,
   "metadata": {},
   "outputs": [
    {
     "name": "stdout",
     "output_type": "stream",
     "text": [
      "Tests Passed\n"
     ]
    }
   ],
   "source": [
    "def get_tensors(loaded_graph):\n",
    "    \"\"\"\n",
    "    Get input, initial state, final state, and probabilities tensor from <loaded_graph>\n",
    "    :param loaded_graph: TensorFlow graph loaded from file\n",
    "    :return: Tuple (InputTensor, InitialStateTensor, FinalStateTensor, ProbsTensor)\n",
    "    \"\"\"\n",
    "    InputTensor = loaded_graph.get_tensor_by_name('input:0')\n",
    "    InitialStateTensor = loaded_graph.get_tensor_by_name('initial_state:0')\n",
    "    FinalStateTensor = loaded_graph.get_tensor_by_name('final_state:0')\n",
    "    ProbsRensor = loaded_graph.get_tensor_by_name('probs:0')\n",
    "    return InputTensor, InitialStateTensor, FinalStateTensor, ProbsRensor\n",
    "\n",
    "\n",
    "\"\"\"\n",
    "DON'T MODIFY ANYTHING IN THIS CELL THAT IS BELOW THIS LINE\n",
    "\"\"\"\n",
    "tests.test_get_tensors(get_tensors)"
   ]
  },
  {
   "cell_type": "markdown",
   "metadata": {},
   "source": [
    "### Choose Word\n",
    "Implement the `pick_word()` function to select the next word using `probabilities`."
   ]
  },
  {
   "cell_type": "code",
   "execution_count": 6,
   "metadata": {},
   "outputs": [
    {
     "name": "stdout",
     "output_type": "stream",
     "text": [
      "Tests Passed\n"
     ]
    }
   ],
   "source": [
    "def pick_word(probabilities, int_to_vocab):\n",
    "    \"\"\"\n",
    "    Pick the next word in the generated text\n",
    "    :param probabilities: Probabilites of the next word\n",
    "    :param int_to_vocab: Dictionary of word ids as the keys and words as the values\n",
    "    :return: String of the predicted word\n",
    "    \"\"\"\n",
    "    prob = int_to_vocab[probabilities.argmax(axis=0)]\n",
    "    return prob\n",
    "\n",
    "\n",
    "\"\"\"\n",
    "DON'T MODIFY ANYTHING IN THIS CELL THAT IS BELOW THIS LINE\n",
    "\"\"\"\n",
    "tests.test_pick_word(pick_word)"
   ]
  },
  {
   "cell_type": "markdown",
   "metadata": {},
   "source": [
    "## Generate TV Script\n",
    "This will generate the TV script for you.  Set `gen_length` to the length of TV script you want to generate."
   ]
  },
  {
   "cell_type": "code",
   "execution_count": 8,
   "metadata": {},
   "outputs": [
    {
     "name": "stdout",
     "output_type": "stream",
     "text": [
      "donald trump of history's days exceed her lawyer.\n",
      "homer simpson:(faking) don't worry, we'll use a random member of our lives.\n",
      "homer simpson:(mouth half-full) well, i don't know...\n",
      "(springfield elementary school: ext. springfield elementary - day - establishing)\n",
      "(auditorium: int. auditorium - continuous)\n",
      "milhouse van houten:(raising hand) tire home.\n",
      "bart simpson:(brightening) we've gotta get back to the store!\n",
      "(simpson home: ext. simpson house - night - establishing)\n",
      "homer simpson:(acting 10 voice) da-ad!\n",
      "homer simpson:(acting 10 voice) suddenly, i guess.\n",
      "(community center: ext. community center - establishing)\n",
      "(first apartment: int.\" grateful sir\")\n",
      "dr. julius hibbert:(sighs) i'd like to be a lot of good ideas.\n",
      "homer simpson:(acting 10 voice) psych!\n",
      "(simpson master bedroom: int. homer and marge's bedroom - continuous)\n",
      "homer simpson:(waking up noise)\n",
      "marge simpson:(annoyed murmur)\n",
      "homer simpson:(urgent) i don't care if i can afford it.\n",
      "homer simpson:(rising anger) i'm glad you guys laughed at me!\n",
      "homer simpson:(annoyed grunt)\n",
      "homer simpson:(10-year-old giggle)\n",
      "(moe's tavern: int. moe's - continuous)\n",
      "homer simpson:(intense) okay, guys. whatcha got a loan in this tavern?\n",
      "moe szyslak:(ashamed) moe, i think i could afford it.\n",
      "moe szyslak:(hurt) what are you doing?\n",
      "bender:(nervous) you ain't so great.\n",
      "chase: gretch-- what are you doing?\n",
      "homer simpson:(acting 10 voice) no.\n",
      "homer simpson:(annoyed grunt)\n",
      "bender:(\" getting irritated around\" noises)\n",
      "bender:(interested noise)\n",
      "marge simpson:(annoyed murmur)\n",
      "(simpson home: ext. simpson house - backyard - day)\n",
      "marge simpson: homie, i'm not gonna be here at the kwik-e-mart.\n",
      "homer simpson:(laughs)\n",
      "homer simpson:(annoyed grunt)\n",
      "(simpson home: int. simpson house - basement - day)\n",
      "homer simpson:(hums, then:) y'ello.\n",
      "homer simpson:(yawns)\n",
      "marge simpson:(stunned murmur)\n",
      "marge simpson:(annoyed murmur)\n",
      "(first church of springfield: int. first church of springfield - lobby - continuous)\n",
      "rev. timothy lovejoy:(sighs)\n",
      "(springfield nuclear power plant: ext. convention center - night)\n",
      "homer simpson:(annoyed grunt)\n",
      "homer simpson: meanwhile, the insurance company were sold.\n",
      "homer simpson:(acting out) y'know, i don't know.\n",
      "lenny leonard:(annoyed) homer, you're not planning to treat them.\n",
      "homer simpson: spoiler!\n",
      "(simpson home: int. simpson house - living room - day)\n",
      "marge simpson:(gasps) lousy party!\n",
      "homer simpson:(sings)\" i can hear a baby / and i used to be / and i wanna go to the prom with the tune still...\n",
      "regular singers:(sings)\" i can smash this country\" part / as a family / area rolls / monorail / which is a nerd / and the star of bombay...\n",
      "krusty the clown:(sings) jewish al goes...(spoken) i think it's a good song...\n",
      "krusty the clown:(conspiratorial) you got a good feeling yells?\n",
      "krusty the clown:(sings) jewish heaven!\n",
      "krusty the clown:(sotto) rabbi, you are a genius!\n",
      "krusty the clown:(sings) krusty the clown!\n",
      "krusty the clown:(doppler) hey-hey!\n",
      "krusty the clown:(agonized) nooo!\n",
      "krusty the clown:(uneasy noise)\n",
      "krusty the clown:(sings) perhaps you deserve a little bit far out of my heart.\n",
      "krusty the clown:(sings) shiny corporate... bella and...\n",
      "(lower top of\" the open guard\" - continuous)\n",
      "(scratchy's apartment: int. bart's apartment - day)\n",
      "adult lisa:(happy) i will not be able to maintain my voice.\n",
      "adult lisa:(top, sincere) okay, okay.\n",
      "adult bart:(sighs)\n",
      "adult lisa:(sighs)\n",
      "homer simpson:(chomping noise)\n",
      "homer simpson:(tapping chin) ooo, of course, i promise.\n",
      "homer simpson:(raising hand) hm... i guess i could never forget to lose weight.\n",
      "homer simpson:(acting 10 voice) bloated leak, mister... unfold the rug... a little\" blue pants...\"(chuckles) hopin'...\n",
      "(springfield nuclear power plant: ext. nuclear plant - day - establishing)\n",
      "c. montgomery burns:(sighs)\n",
      "homer simpson:(annoyed grunt)\n",
      "c. montgomery burns:(annoyed) folks, i know you...(sighs) dare you hide advantage of the heat.\n",
      "waylon smithers:(leg, gurgly, hysterical) i was a friend.\n",
      "c. montgomery burns: hoo boy.\n",
      "c. montgomery burns:(stunned) smithers?!\n",
      "waylon smithers:(\n"
     ]
    }
   ],
   "source": [
    "gen_length = 1000\n",
    "# homer_simpson, moe_szyslak, or Barney_Gumble\n",
    "prime_word = ['donald', 'trump']\n",
    "\n",
    "\"\"\"\n",
    "DON'T MODIFY ANYTHING IN THIS CELL THAT IS BELOW THIS LINE\n",
    "\"\"\"\n",
    "loaded_graph = tf.Graph()\n",
    "with tf.Session(graph=loaded_graph) as sess:\n",
    "    # Load saved model\n",
    "    loader = tf.train.import_meta_graph(load_dir + '.meta')\n",
    "    loader.restore(sess, load_dir)\n",
    "\n",
    "    # Get Tensors from loaded model\n",
    "    input_text, initial_state, final_state, probs = get_tensors(loaded_graph)\n",
    "\n",
    "    # Sentences generation setup\n",
    "    gen_sentences = prime_word\n",
    "    prev_state = sess.run(initial_state, {input_text: np.array([[1]])})\n",
    "\n",
    "    # Generate sentences\n",
    "    for n in range(gen_length):\n",
    "        # Dynamic Input\n",
    "        dyn_input = [[vocab_to_int[word] for word in gen_sentences[-seq_length:]]]\n",
    "        dyn_seq_length = len(dyn_input[0])\n",
    "\n",
    "        # Get Prediction\n",
    "        probabilities, prev_state = sess.run(\n",
    "            [probs, final_state],\n",
    "            {input_text: dyn_input, initial_state: prev_state})\n",
    "        \n",
    "        pred_word = pick_word(probabilities[dyn_seq_length-1], int_to_vocab)\n",
    "\n",
    "        gen_sentences.append(pred_word)\n",
    "    \n",
    "    # Remove tokens\n",
    "    tv_script = ' '.join(gen_sentences)\n",
    "    for key, token in token_dict.items():\n",
    "        ending = ' ' if key in ['\\n', '(', '\"'] else ''\n",
    "        tv_script = tv_script.replace(' ' + token.lower(), key)\n",
    "    tv_script = tv_script.replace('\\n ', '\\n')\n",
    "    tv_script = tv_script.replace('( ', '(')\n",
    "        \n",
    "    print(tv_script)"
   ]
  },
  {
   "cell_type": "markdown",
   "metadata": {},
   "source": [
    "# The TV Script is Nonsensical\n",
    "It's ok if the TV script doesn't make any sense.  We trained on less than a megabyte of text.  In order to get good results, you'll have to use a smaller vocabulary or get more data.  Luckly there's more data!  As we mentioned in the begging of this project, this is a subset of [another dataset](https://www.kaggle.com/wcukierski/the-simpsons-by-the-data).  We didn't have you train on all the data, because that would take too long.  However, you are free to train your neural network on all the data.  After you complete the project, of course.\n",
    "# Submitting This Project\n",
    "When submitting this project, make sure to run all the cells before saving the notebook. Save the notebook file as \"dlnd_tv_script_generation.ipynb\" and save it as a HTML file under \"File\" -> \"Download as\". Include the \"helper.py\" and \"problem_unittests.py\" files in your submission."
   ]
  }
 ],
 "metadata": {
  "kernelspec": {
   "display_name": "Python 3",
   "language": "python",
   "name": "python3"
  },
  "language_info": {
   "codemirror_mode": {
    "name": "ipython",
    "version": 3
   },
   "file_extension": ".py",
   "mimetype": "text/x-python",
   "name": "python",
   "nbconvert_exporter": "python",
   "pygments_lexer": "ipython3",
   "version": "3.6.1"
  },
  "widgets": {
   "state": {},
   "version": "1.1.2"
  }
 },
 "nbformat": 4,
 "nbformat_minor": 1
}
